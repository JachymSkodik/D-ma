{
  "nbformat": 4,
  "nbformat_minor": 0,
  "metadata": {
    "colab": {
      "name": "Dáma.ipynb",
      "provenance": [],
      "collapsed_sections": [],
      "authorship_tag": "ABX9TyPiZpj9Zhxm3PT/h2uIjexp",
      "include_colab_link": true
    },
    "kernelspec": {
      "name": "python3",
      "display_name": "Python 3"
    },
    "language_info": {
      "name": "python"
    }
  },
  "cells": [
    {
      "cell_type": "markdown",
      "metadata": {
        "id": "view-in-github",
        "colab_type": "text"
      },
      "source": [
        "<a href=\"https://colab.research.google.com/github/JachymSkodik/Dama/blob/dama_master/D%C3%A1ma.ipynb\" target=\"_parent\"><img src=\"https://colab.research.google.com/assets/colab-badge.svg\" alt=\"Open In Colab\"/></a>"
      ]
    },
    {
      "cell_type": "code",
      "execution_count": null,
      "metadata": {
        "id": "jFeMoodRJYIG"
      },
      "outputs": [],
      "source": [
        "class Plocha:\n",
        "    ...\n",
        "\n",
        "class Pole_cerne:\n",
        "    ...\n",
        "\n",
        "class Pole_bile:\n",
        "    ...\n",
        "\n",
        "class Figurky:\n",
        "    ...\n",
        "\n",
        "class Dama:\n",
        "    ...\n",
        "\n",
        "class Tah:\n",
        "    ...\n",
        "\n",
        "class Brani:\n",
        "    ..."
      ]
    }
  ]
}